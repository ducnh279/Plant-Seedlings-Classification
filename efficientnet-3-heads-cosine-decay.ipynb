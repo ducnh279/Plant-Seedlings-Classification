{
 "cells": [
  {
   "cell_type": "markdown",
   "id": "b0cd2423",
   "metadata": {},
   "source": [
    "- **Data from**: https://www.kaggle.com/competitions/plant-seedlings-classification/data\n",
    "- **Kaggle notebook**: https://www.kaggle.com/code/ducnh279/efficientnet-3-heads-cosine-decay"
   ]
  },
  {
   "cell_type": "code",
   "execution_count": 1,
   "id": "7839404c",
   "metadata": {},
   "outputs": [],
   "source": [
    "import os\n",
    "import time\n",
    "\n",
    "import pandas as pd\n",
    "from PIL import Image\n",
    "import multiprocessing as mp\n",
    "\n",
    "import torch\n",
    "import torch.nn as nn\n",
    "import torch.optim as optim\n",
    "import torch.nn.functional as F\n",
    "from torch.cuda.amp import GradScaler, autocast\n",
    "from torch.utils.data import Dataset, DataLoader\n",
    "\n",
    "import torchvision\n",
    "from torchvision import transforms\n",
    "from torchvision.transforms.functional import InterpolationMode\n",
    "from transformers import get_cosine_schedule_with_warmup\n",
    "\n",
    "import timm"
   ]
  },
  {
   "cell_type": "markdown",
   "id": "d63f16e7",
   "metadata": {},
   "source": [
    "# 1. General Settings"
   ]
  },
  {
   "cell_type": "code",
   "execution_count": 2,
   "id": "53031e16",
   "metadata": {
    "execution": {
     "iopub.execute_input": "2023-05-03T15:48:48.858024Z",
     "iopub.status.busy": "2023-05-03T15:48:48.857707Z",
     "iopub.status.idle": "2023-05-03T15:48:59.861193Z",
     "shell.execute_reply": "2023-05-03T15:48:59.860342Z"
    },
    "papermill": {
     "duration": 11.01093,
     "end_time": "2023-05-03T15:48:59.863456",
     "exception": false,
     "start_time": "2023-05-03T15:48:48.852526",
     "status": "completed"
    },
    "tags": []
   },
   "outputs": [],
   "source": [
    "os.environ[\"OMP_NUM_THREADS\"] = \"1\"\n",
    "os.environ[\"MKL_NUM_THREADS\"] = \"1\"\n",
    "os.environ[\"OPENBLAS_NUM_THREADS\"] = \"1\"\n",
    "os.environ[\"VECLIB_MAXIMUM_THREADS\"] = \"1\"\n",
    "os.environ[\"NUMEXPR_NUM_THREADS\"] = \"1\""
   ]
  },
  {
   "cell_type": "code",
   "execution_count": 3,
   "id": "2f306b00",
   "metadata": {
    "execution": {
     "iopub.execute_input": "2023-05-03T15:48:59.873045Z",
     "iopub.status.busy": "2023-05-03T15:48:59.872778Z",
     "iopub.status.idle": "2023-05-03T15:48:59.878168Z",
     "shell.execute_reply": "2023-05-03T15:48:59.877407Z"
    },
    "papermill": {
     "duration": 0.012299,
     "end_time": "2023-05-03T15:48:59.880020",
     "exception": false,
     "start_time": "2023-05-03T15:48:59.867721",
     "status": "completed"
    },
    "tags": []
   },
   "outputs": [],
   "source": [
    "TRAIN_DIR =  '../input/plant-seedlings-classification/train/'\n",
    "TEST_DIR = '/kaggle/input/plant-seedlings-classification/test'\n",
    "SUB_DIR = '/kaggle/input/plant-seedlings-classification/sample_submission.csv'"
   ]
  },
  {
   "cell_type": "code",
   "execution_count": 4,
   "id": "328574ff",
   "metadata": {
    "execution": {
     "iopub.execute_input": "2023-05-03T15:48:59.897171Z",
     "iopub.status.busy": "2023-05-03T15:48:59.896399Z",
     "iopub.status.idle": "2023-05-03T15:48:59.901412Z",
     "shell.execute_reply": "2023-05-03T15:48:59.900681Z"
    },
    "papermill": {
     "duration": 0.011485,
     "end_time": "2023-05-03T15:48:59.903177",
     "exception": false,
     "start_time": "2023-05-03T15:48:59.891692",
     "status": "completed"
    },
    "tags": []
   },
   "outputs": [],
   "source": [
    "TRAIN_DIR =  '../input/plant-seedlings-classification/train/'\n",
    "TEST_DIR = '/kaggle/input/plant-seedlings-classification/test'\n",
    "SUB_DIR = '/kaggle/input/plant-seedlings-classification/sample_submission.csv'\n",
    "SEED = 279\n",
    "TRAIN_BS = 16\n",
    "TEST_BS = 100\n",
    "NUM_CLASSES = 128\n",
    "EMBEDDING_SIZE = 1280\n",
    "NUM_EPOCHS = 7\n",
    "LEARNING_RATE = 0.0003\n",
    "WEIGHT_DECAY = 0\n",
    "WARMUP_EPOCHS = 0\n",
    "LOGGING_INTERVAL = 100\n",
    "N_CORES = mp.cpu_count()"
   ]
  },
  {
   "cell_type": "code",
   "execution_count": 5,
   "id": "a82a63f2",
   "metadata": {
    "execution": {
     "iopub.execute_input": "2023-05-03T15:48:59.912523Z",
     "iopub.status.busy": "2023-05-03T15:48:59.911813Z",
     "iopub.status.idle": "2023-05-03T15:48:59.920460Z",
     "shell.execute_reply": "2023-05-03T15:48:59.919713Z"
    },
    "papermill": {
     "duration": 0.015176,
     "end_time": "2023-05-03T15:48:59.922302",
     "exception": false,
     "start_time": "2023-05-03T15:48:59.907126",
     "status": "completed"
    },
    "tags": []
   },
   "outputs": [],
   "source": [
    "def set_seed(seed=SEED):\n",
    "    os.environ['PYTHONHASHSEED'] = str(seed)\n",
    "    torch.manual_seed(seed)\n",
    "    torch.cuda.manual_seed(seed)\n",
    "    torch.backends.cudnn.deterministic = True\n",
    "    torch.backends.cudnn.benchmark = True\n",
    "    \n",
    "set_seed()"
   ]
  },
  {
   "cell_type": "code",
   "execution_count": 6,
   "id": "36053809",
   "metadata": {
    "execution": {
     "iopub.execute_input": "2023-05-03T15:48:59.931400Z",
     "iopub.status.busy": "2023-05-03T15:48:59.931157Z",
     "iopub.status.idle": "2023-05-03T15:48:59.999471Z",
     "shell.execute_reply": "2023-05-03T15:48:59.998109Z"
    },
    "papermill": {
     "duration": 0.074867,
     "end_time": "2023-05-03T15:49:00.001283",
     "exception": false,
     "start_time": "2023-05-03T15:48:59.926416",
     "status": "completed"
    },
    "tags": []
   },
   "outputs": [
    {
     "name": "stdout",
     "output_type": "stream",
     "text": [
      "Using device: cuda\n"
     ]
    }
   ],
   "source": [
    "if torch.cuda.is_available():\n",
    "    DEVICE = torch.device(type='cuda')\n",
    "else:\n",
    "    DEVICE = torch.device('cpu')\n",
    "print(f'Using device: {DEVICE}')"
   ]
  },
  {
   "cell_type": "markdown",
   "id": "b7205e6b",
   "metadata": {
    "papermill": {
     "duration": 0.006151,
     "end_time": "2023-05-03T15:49:00.011619",
     "exception": false,
     "start_time": "2023-05-03T15:49:00.005468",
     "status": "completed"
    },
    "tags": []
   },
   "source": [
    "# 2. Create an image dataframe with labels"
   ]
  },
  {
   "cell_type": "code",
   "execution_count": 7,
   "id": "c9edc64d",
   "metadata": {
    "execution": {
     "iopub.execute_input": "2023-05-03T15:49:00.021928Z",
     "iopub.status.busy": "2023-05-03T15:49:00.020773Z",
     "iopub.status.idle": "2023-05-03T15:49:01.106581Z",
     "shell.execute_reply": "2023-05-03T15:49:01.105126Z"
    },
    "papermill": {
     "duration": 1.095161,
     "end_time": "2023-05-03T15:49:01.110944",
     "exception": false,
     "start_time": "2023-05-03T15:49:00.015783",
     "status": "completed"
    },
    "tags": []
   },
   "outputs": [
    {
     "name": "stdout",
     "output_type": "stream",
     "text": [
      "['Scentless Mayweed', 'Common wheat', 'Charlock', 'Black-grass', 'Sugar beet', 'Loose Silky-bent', 'Maize', 'Cleavers', 'Common Chickweed', 'Fat Hen', 'Small-flowered Cranesbill', 'Shepherds Purse']\n"
     ]
    },
    {
     "data": {
      "text/html": [
       "<div>\n",
       "<style scoped>\n",
       "    .dataframe tbody tr th:only-of-type {\n",
       "        vertical-align: middle;\n",
       "    }\n",
       "\n",
       "    .dataframe tbody tr th {\n",
       "        vertical-align: top;\n",
       "    }\n",
       "\n",
       "    .dataframe thead th {\n",
       "        text-align: right;\n",
       "    }\n",
       "</style>\n",
       "<table border=\"1\" class=\"dataframe\">\n",
       "  <thead>\n",
       "    <tr style=\"text-align: right;\">\n",
       "      <th></th>\n",
       "      <th>file_path</th>\n",
       "      <th>label</th>\n",
       "    </tr>\n",
       "  </thead>\n",
       "  <tbody>\n",
       "    <tr>\n",
       "      <th>4745</th>\n",
       "      <td>Shepherds Purse/f0127f70d.png</td>\n",
       "      <td>11</td>\n",
       "    </tr>\n",
       "    <tr>\n",
       "      <th>4746</th>\n",
       "      <td>Shepherds Purse/179cedc9e.png</td>\n",
       "      <td>11</td>\n",
       "    </tr>\n",
       "    <tr>\n",
       "      <th>4747</th>\n",
       "      <td>Shepherds Purse/a0ec33869.png</td>\n",
       "      <td>11</td>\n",
       "    </tr>\n",
       "    <tr>\n",
       "      <th>4748</th>\n",
       "      <td>Shepherds Purse/33010c8cb.png</td>\n",
       "      <td>11</td>\n",
       "    </tr>\n",
       "    <tr>\n",
       "      <th>4749</th>\n",
       "      <td>Shepherds Purse/aad81b27b.png</td>\n",
       "      <td>11</td>\n",
       "    </tr>\n",
       "  </tbody>\n",
       "</table>\n",
       "</div>"
      ],
      "text/plain": [
       "                          file_path  label\n",
       "4745  Shepherds Purse/f0127f70d.png     11\n",
       "4746  Shepherds Purse/179cedc9e.png     11\n",
       "4747  Shepherds Purse/a0ec33869.png     11\n",
       "4748  Shepherds Purse/33010c8cb.png     11\n",
       "4749  Shepherds Purse/aad81b27b.png     11"
      ]
     },
     "execution_count": 7,
     "metadata": {},
     "output_type": "execute_result"
    }
   ],
   "source": [
    "class_label_names = os.listdir(TRAIN_DIR)\n",
    "print(class_label_names)\n",
    "\n",
    "train_data = []\n",
    "for label_index, label_name in enumerate(class_label_names):\n",
    "    fnames = os.listdir(os.path.join(TRAIN_DIR, label_name)) \n",
    "    for fname in fnames:\n",
    "        train_data.append([os.path.join(label_name, fname), label_index])\n",
    "\n",
    "train_df = pd.DataFrame(train_data, columns=['file_path', 'label'])\n",
    "train_df.tail()"
   ]
  },
  {
   "cell_type": "code",
   "execution_count": 8,
   "id": "f342c415",
   "metadata": {
    "execution": {
     "iopub.execute_input": "2023-05-03T15:49:01.126185Z",
     "iopub.status.busy": "2023-05-03T15:49:01.125881Z",
     "iopub.status.idle": "2023-05-03T15:49:01.322155Z",
     "shell.execute_reply": "2023-05-03T15:49:01.321305Z"
    },
    "papermill": {
     "duration": 0.204987,
     "end_time": "2023-05-03T15:49:01.324261",
     "exception": false,
     "start_time": "2023-05-03T15:49:01.119274",
     "status": "completed"
    },
    "tags": []
   },
   "outputs": [],
   "source": [
    "test_files = os.listdir(TEST_DIR)\n",
    "test_df = pd.DataFrame({'file_path': test_files})\n",
    "test_df['label'] = 9999"
   ]
  },
  {
   "cell_type": "markdown",
   "id": "115a4b00",
   "metadata": {
    "papermill": {
     "duration": 0.004361,
     "end_time": "2023-05-03T15:49:01.333207",
     "exception": false,
     "start_time": "2023-05-03T15:49:01.328846",
     "status": "completed"
    },
    "tags": []
   },
   "source": [
    "# 3. Datasets and DataLoaders"
   ]
  },
  {
   "cell_type": "code",
   "execution_count": 9,
   "id": "fb7315bb",
   "metadata": {
    "execution": {
     "iopub.execute_input": "2023-05-03T15:49:01.344425Z",
     "iopub.status.busy": "2023-05-03T15:49:01.343091Z",
     "iopub.status.idle": "2023-05-03T15:49:01.349582Z",
     "shell.execute_reply": "2023-05-03T15:49:01.348756Z"
    },
    "papermill": {
     "duration": 0.013607,
     "end_time": "2023-05-03T15:49:01.351425",
     "exception": false,
     "start_time": "2023-05-03T15:49:01.337818",
     "status": "completed"
    },
    "tags": []
   },
   "outputs": [],
   "source": [
    "class PlantSeedingDataset(Dataset):\n",
    "    def __init__(self, df, img_dir, transform=None):\n",
    "        self.df = df\n",
    "        self.img_dir = img_dir\n",
    "        self.transform = transform\n",
    "        self.file_path = df['file_path']\n",
    "        self.y = df['label']\n",
    "    \n",
    "    def __getitem__(self, index):\n",
    "        img = Image.open(os.path.join(self.img_dir, self.file_path[index]))\n",
    "        if self.transform is not None:\n",
    "            img = self.transform(img)\n",
    "        label = self.y[index]\n",
    "        return img, label\n",
    "    \n",
    "    def __len__(self):\n",
    "        return self.y.shape[0]"
   ]
  },
  {
   "cell_type": "code",
   "execution_count": 10,
   "id": "23876510",
   "metadata": {
    "execution": {
     "iopub.execute_input": "2023-05-03T15:49:01.363320Z",
     "iopub.status.busy": "2023-05-03T15:49:01.361843Z",
     "iopub.status.idle": "2023-05-03T15:49:01.369402Z",
     "shell.execute_reply": "2023-05-03T15:49:01.368602Z"
    },
    "papermill": {
     "duration": 0.015308,
     "end_time": "2023-05-03T15:49:01.371146",
     "exception": false,
     "start_time": "2023-05-03T15:49:01.355838",
     "status": "completed"
    },
    "tags": []
   },
   "outputs": [],
   "source": [
    "def convert_4_channel_to_3_channel(image):\n",
    "    \"\"\"\n",
    "    Convert 4-channel RGBA image to 3-channel RGB image\n",
    "    \"\"\"\n",
    "    if image.mode == 'RGBA':\n",
    "        image = image.convert('RGB')\n",
    "    return image\n",
    "\n",
    "train_transforms = transforms.Compose([\n",
    "    transforms.Lambda(convert_4_channel_to_3_channel), \n",
    "    transforms.Resize(size=(250, 250), interpolation=InterpolationMode.BILINEAR),\n",
    "    transforms.RandomRotation(degrees=(-180, 180)),\n",
    "    transforms.RandomAffine(degrees=0, translate=(0.3, 0.3), scale=(0.7, 1.3)),\n",
    "    transforms.RandomCrop(224),\n",
    "    transforms.ToTensor(),\n",
    "    transforms.Normalize((0.485, 0.456, 0.406), (0.229, 0.224, 0.225))\n",
    "])\n",
    "\n",
    "test_transforms = transforms.Compose([\n",
    "    transforms.Lambda(convert_4_channel_to_3_channel), \n",
    "    transforms.Resize(size=(224, 224), interpolation=InterpolationMode.BILINEAR),\n",
    "    transforms.ToTensor(),\n",
    "    transforms.Normalize((0.485, 0.456, 0.406), (0.229, 0.224, 0.225))\n",
    "])"
   ]
  },
  {
   "cell_type": "code",
   "execution_count": 11,
   "id": "0ec62e78",
   "metadata": {
    "execution": {
     "iopub.execute_input": "2023-05-03T15:49:01.382299Z",
     "iopub.status.busy": "2023-05-03T15:49:01.381027Z",
     "iopub.status.idle": "2023-05-03T15:49:01.387176Z",
     "shell.execute_reply": "2023-05-03T15:49:01.386360Z"
    },
    "papermill": {
     "duration": 0.013395,
     "end_time": "2023-05-03T15:49:01.388965",
     "exception": false,
     "start_time": "2023-05-03T15:49:01.375570",
     "status": "completed"
    },
    "tags": []
   },
   "outputs": [],
   "source": [
    "train_dataset = PlantSeedingDataset(df=train_df,\n",
    "                                    img_dir=TRAIN_DIR,\n",
    "                                    transform=train_transforms)\n",
    "\n",
    "train_loader = DataLoader(dataset=train_dataset,\n",
    "                          batch_size=TRAIN_BS,\n",
    "                          drop_last=True,\n",
    "                          shuffle=True,\n",
    "                          num_workers=N_CORES)\n",
    "\n",
    "\n",
    "test_dataset = PlantSeedingDataset(df=test_df,\n",
    "                                   img_dir=TEST_DIR,\n",
    "                                   transform=test_transforms)\n",
    "\n",
    "test_loader = DataLoader(dataset=test_dataset,\n",
    "                         batch_size=TEST_BS,\n",
    "                         drop_last=False,\n",
    "                         shuffle=False,\n",
    "                         num_workers=N_CORES)"
   ]
  },
  {
   "cell_type": "markdown",
   "id": "6e58cce7",
   "metadata": {
    "papermill": {
     "duration": 0.004344,
     "end_time": "2023-05-03T15:49:01.397765",
     "exception": false,
     "start_time": "2023-05-03T15:49:01.393421",
     "status": "completed"
    },
    "tags": []
   },
   "source": [
    "# 4. Model initialization and training setup"
   ]
  },
  {
   "cell_type": "code",
   "execution_count": 12,
   "id": "beb6e551",
   "metadata": {
    "execution": {
     "iopub.execute_input": "2023-05-03T15:49:01.408997Z",
     "iopub.status.busy": "2023-05-03T15:49:01.407726Z",
     "iopub.status.idle": "2023-05-03T15:49:01.413927Z",
     "shell.execute_reply": "2023-05-03T15:49:01.413134Z"
    },
    "papermill": {
     "duration": 0.013156,
     "end_time": "2023-05-03T15:49:01.415643",
     "exception": false,
     "start_time": "2023-05-03T15:49:01.402487",
     "status": "completed"
    },
    "tags": []
   },
   "outputs": [],
   "source": [
    "class Net(nn.Module):\n",
    "    def __init__(self, num_classes, embedding_size):\n",
    "        super(Net, self).__init__()\n",
    "        self.num_classes = num_classes\n",
    "        self.embedding_size = embedding_size\n",
    "        self.backbone = timm.create_model(\n",
    "            'efficientnet_b1', \n",
    "            pretrained=True, \n",
    "            num_classes=self.num_classes\n",
    "        )\n",
    "        \n",
    "        self.backbone.classifier = nn.Sequential(\n",
    "            nn.Linear(self.embedding_size, 256),\n",
    "            nn.BatchNorm1d(256),\n",
    "            nn.PReLU(),\n",
    "            nn.Linear(256, 128),\n",
    "            nn.BatchNorm1d(128),\n",
    "            nn.PReLU(),\n",
    "            nn.Linear(128, self.num_classes)\n",
    "        )\n",
    "        \n",
    "    def forward(self, x):\n",
    "        logits = self.backbone(x)\n",
    "        return logits"
   ]
  },
  {
   "cell_type": "code",
   "execution_count": 13,
   "id": "371a4ece",
   "metadata": {
    "execution": {
     "iopub.execute_input": "2023-05-03T15:49:01.425793Z",
     "iopub.status.busy": "2023-05-03T15:49:01.425302Z",
     "iopub.status.idle": "2023-05-03T15:49:07.381479Z",
     "shell.execute_reply": "2023-05-03T15:49:07.380544Z"
    },
    "papermill": {
     "duration": 5.963771,
     "end_time": "2023-05-03T15:49:07.383861",
     "exception": false,
     "start_time": "2023-05-03T15:49:01.420090",
     "status": "completed"
    },
    "tags": []
   },
   "outputs": [
    {
     "name": "stderr",
     "output_type": "stream",
     "text": [
      "Downloading: \"https://github.com/rwightman/pytorch-image-models/releases/download/v0.1-weights/efficientnet_b1-533bc792.pth\" to /root/.cache/torch/hub/checkpoints/efficientnet_b1-533bc792.pth\n"
     ]
    }
   ],
   "source": [
    "set_seed(SEED)\n",
    "model = Net(num_classes=NUM_CLASSES, embedding_size=EMBEDDING_SIZE)\n",
    "model.to(DEVICE);"
   ]
  },
  {
   "cell_type": "code",
   "execution_count": 14,
   "id": "32b7af9c",
   "metadata": {
    "execution": {
     "iopub.execute_input": "2023-05-03T15:49:07.396189Z",
     "iopub.status.busy": "2023-05-03T15:49:07.395900Z",
     "iopub.status.idle": "2023-05-03T15:49:07.402083Z",
     "shell.execute_reply": "2023-05-03T15:49:07.401139Z"
    },
    "papermill": {
     "duration": 0.014317,
     "end_time": "2023-05-03T15:49:07.404200",
     "exception": false,
     "start_time": "2023-05-03T15:49:07.389883",
     "status": "completed"
    },
    "tags": []
   },
   "outputs": [],
   "source": [
    "optimizer = optim.AdamW(\n",
    "    model.parameters(), \n",
    "    lr=LEARNING_RATE,\n",
    "    weight_decay=WEIGHT_DECAY\n",
    ")\n",
    "\n",
    "scheduler = get_cosine_schedule_with_warmup(\n",
    "    optimizer=optimizer,\n",
    "    num_warmup_steps=WARMUP_EPOCHS,\n",
    "    num_training_steps=len(train_loader)*NUM_EPOCHS\n",
    ")\n",
    "\n",
    "scaler = GradScaler()"
   ]
  },
  {
   "cell_type": "markdown",
   "id": "ac8730e6",
   "metadata": {
    "papermill": {
     "duration": 0.004513,
     "end_time": "2023-05-03T15:49:07.413374",
     "exception": false,
     "start_time": "2023-05-03T15:49:07.408861",
     "status": "completed"
    },
    "tags": []
   },
   "source": [
    "# 5. Fine-tuning"
   ]
  },
  {
   "cell_type": "code",
   "execution_count": 15,
   "id": "9cf3e8bd",
   "metadata": {
    "execution": {
     "iopub.execute_input": "2023-05-03T15:49:07.423774Z",
     "iopub.status.busy": "2023-05-03T15:49:07.423490Z",
     "iopub.status.idle": "2023-05-03T15:56:38.026983Z",
     "shell.execute_reply": "2023-05-03T15:56:38.025813Z"
    },
    "papermill": {
     "duration": 450.616748,
     "end_time": "2023-05-03T15:56:38.034759",
     "exception": false,
     "start_time": "2023-05-03T15:49:07.418011",
     "status": "completed"
    },
    "tags": []
   },
   "outputs": [
    {
     "name": "stdout",
     "output_type": "stream",
     "text": [
      "Epoch: 1/7 | Batch: 0/296 | Loss: 4.9934\n",
      "Epoch: 1/7 | Batch: 100/296 | Loss: 1.3283\n",
      "Epoch: 1/7 | Batch: 200/296 | Loss: 0.8817\n",
      "Epoch: 2/7 | Batch: 0/296 | Loss: 0.1807\n",
      "Epoch: 2/7 | Batch: 100/296 | Loss: 0.3612\n",
      "Epoch: 2/7 | Batch: 200/296 | Loss: 0.2435\n",
      "Epoch: 3/7 | Batch: 0/296 | Loss: 0.4535\n",
      "Epoch: 3/7 | Batch: 100/296 | Loss: 0.0638\n",
      "Epoch: 3/7 | Batch: 200/296 | Loss: 0.3376\n",
      "Epoch: 4/7 | Batch: 0/296 | Loss: 0.1812\n",
      "Epoch: 4/7 | Batch: 100/296 | Loss: 0.3435\n",
      "Epoch: 4/7 | Batch: 200/296 | Loss: 0.5069\n",
      "Epoch: 5/7 | Batch: 0/296 | Loss: 0.1083\n",
      "Epoch: 5/7 | Batch: 100/296 | Loss: 0.0577\n",
      "Epoch: 5/7 | Batch: 200/296 | Loss: 0.1180\n",
      "Epoch: 6/7 | Batch: 0/296 | Loss: 0.0244\n",
      "Epoch: 6/7 | Batch: 100/296 | Loss: 0.0728\n",
      "Epoch: 6/7 | Batch: 200/296 | Loss: 0.0177\n",
      "Epoch: 7/7 | Batch: 0/296 | Loss: 0.1290\n",
      "Epoch: 7/7 | Batch: 100/296 | Loss: 0.0237\n",
      "Epoch: 7/7 | Batch: 200/296 | Loss: 0.1128\n",
      "Total training time: 7.510 min\n"
     ]
    }
   ],
   "source": [
    "start_time = time.time()\n",
    "\n",
    "for epoch in range(NUM_EPOCHS):\n",
    "    model.train()\n",
    "    \n",
    "    for batch_idx, (features, target) in enumerate(train_loader):\n",
    "        features = features.to(DEVICE)\n",
    "        target = target.to(DEVICE)\n",
    "\n",
    "        with autocast():\n",
    "            logits = model(features)\n",
    "            loss = F.cross_entropy(logits, target, reduction='mean')\n",
    "\n",
    "        scaler.scale(loss).backward()\n",
    "        scaler.step(optimizer)\n",
    "        scaler.update()\n",
    "        optimizer.zero_grad()\n",
    "        scheduler.step()\n",
    "        \n",
    "        \n",
    "        if not batch_idx % LOGGING_INTERVAL:\n",
    "            print(\n",
    "                f'Epoch: {epoch + 1}/{NUM_EPOCHS}'\n",
    "                f' | Batch: {batch_idx}/{len(train_loader)}'\n",
    "                f' | Loss: {loss:.4f}'\n",
    "            )\n",
    "\n",
    "            \n",
    "elapsed = (time.time() - start_time) / 60\n",
    "print(f'Total training time: {elapsed:.3f} min')"
   ]
  },
  {
   "cell_type": "markdown",
   "id": "a2511efc",
   "metadata": {
    "papermill": {
     "duration": 0.005625,
     "end_time": "2023-05-03T15:56:38.046318",
     "exception": false,
     "start_time": "2023-05-03T15:56:38.040693",
     "status": "completed"
    },
    "tags": []
   },
   "source": [
    "# 6. Inference"
   ]
  },
  {
   "cell_type": "code",
   "execution_count": 16,
   "id": "fd0fcc8f",
   "metadata": {
    "execution": {
     "iopub.execute_input": "2023-05-03T15:56:38.059281Z",
     "iopub.status.busy": "2023-05-03T15:56:38.058975Z",
     "iopub.status.idle": "2023-05-03T15:56:47.351363Z",
     "shell.execute_reply": "2023-05-03T15:56:47.350094Z"
    },
    "papermill": {
     "duration": 9.30199,
     "end_time": "2023-05-03T15:56:47.354012",
     "exception": false,
     "start_time": "2023-05-03T15:56:38.052022",
     "status": "completed"
    },
    "tags": []
   },
   "outputs": [],
   "source": [
    "preds = []\n",
    "model.eval()\n",
    "\n",
    "with torch.inference_mode():\n",
    "    for features, target in test_loader:\n",
    "        features = features.to(DEVICE)\n",
    "        target = target.to(DEVICE)\n",
    "        \n",
    "        with autocast():\n",
    "            logits = model(features)\n",
    "            \n",
    "        y_pred = torch.softmax(logits, dim=1).argmax(dim=1).detach().cpu()\n",
    "        \n",
    "        for pred in y_pred:\n",
    "            preds.append(pred.item())"
   ]
  },
  {
   "cell_type": "markdown",
   "id": "556eb274",
   "metadata": {
    "papermill": {
     "duration": 0.005736,
     "end_time": "2023-05-03T15:56:47.365892",
     "exception": false,
     "start_time": "2023-05-03T15:56:47.360156",
     "status": "completed"
    },
    "tags": []
   },
   "source": [
    "# 7. Submit"
   ]
  },
  {
   "cell_type": "code",
   "execution_count": 17,
   "id": "8784f2b5",
   "metadata": {
    "execution": {
     "iopub.execute_input": "2023-05-03T15:56:47.379226Z",
     "iopub.status.busy": "2023-05-03T15:56:47.378893Z",
     "iopub.status.idle": "2023-05-03T15:56:47.383497Z",
     "shell.execute_reply": "2023-05-03T15:56:47.382623Z"
    },
    "papermill": {
     "duration": 0.013518,
     "end_time": "2023-05-03T15:56:47.385358",
     "exception": false,
     "start_time": "2023-05-03T15:56:47.371840",
     "status": "completed"
    },
    "tags": []
   },
   "outputs": [],
   "source": [
    "map_labels = {}\n",
    "for idx, i in enumerate(class_label_names):\n",
    "    map_labels[idx] = i"
   ]
  },
  {
   "cell_type": "code",
   "execution_count": 18,
   "id": "bf751598",
   "metadata": {
    "execution": {
     "iopub.execute_input": "2023-05-03T15:56:47.398291Z",
     "iopub.status.busy": "2023-05-03T15:56:47.398038Z",
     "iopub.status.idle": "2023-05-03T15:56:47.425488Z",
     "shell.execute_reply": "2023-05-03T15:56:47.424616Z"
    },
    "papermill": {
     "duration": 0.036215,
     "end_time": "2023-05-03T15:56:47.427409",
     "exception": false,
     "start_time": "2023-05-03T15:56:47.391194",
     "status": "completed"
    },
    "tags": []
   },
   "outputs": [
    {
     "name": "stdout",
     "output_type": "stream",
     "text": [
      "Submission file saved!\n"
     ]
    },
    {
     "data": {
      "text/html": [
       "<div>\n",
       "<style scoped>\n",
       "    .dataframe tbody tr th:only-of-type {\n",
       "        vertical-align: middle;\n",
       "    }\n",
       "\n",
       "    .dataframe tbody tr th {\n",
       "        vertical-align: top;\n",
       "    }\n",
       "\n",
       "    .dataframe thead th {\n",
       "        text-align: right;\n",
       "    }\n",
       "</style>\n",
       "<table border=\"1\" class=\"dataframe\">\n",
       "  <thead>\n",
       "    <tr style=\"text-align: right;\">\n",
       "      <th></th>\n",
       "      <th>file</th>\n",
       "      <th>species</th>\n",
       "    </tr>\n",
       "  </thead>\n",
       "  <tbody>\n",
       "    <tr>\n",
       "      <th>0</th>\n",
       "      <td>fd87b36ae.png</td>\n",
       "      <td>Loose Silky-bent</td>\n",
       "    </tr>\n",
       "    <tr>\n",
       "      <th>1</th>\n",
       "      <td>0e8492cb1.png</td>\n",
       "      <td>Sugar beet</td>\n",
       "    </tr>\n",
       "    <tr>\n",
       "      <th>2</th>\n",
       "      <td>8d6acbe9b.png</td>\n",
       "      <td>Common Chickweed</td>\n",
       "    </tr>\n",
       "    <tr>\n",
       "      <th>3</th>\n",
       "      <td>54b3afd58.png</td>\n",
       "      <td>Cleavers</td>\n",
       "    </tr>\n",
       "    <tr>\n",
       "      <th>4</th>\n",
       "      <td>6049234e6.png</td>\n",
       "      <td>Fat Hen</td>\n",
       "    </tr>\n",
       "    <tr>\n",
       "      <th>...</th>\n",
       "      <td>...</td>\n",
       "      <td>...</td>\n",
       "    </tr>\n",
       "    <tr>\n",
       "      <th>789</th>\n",
       "      <td>4c7838de4.png</td>\n",
       "      <td>Common Chickweed</td>\n",
       "    </tr>\n",
       "    <tr>\n",
       "      <th>790</th>\n",
       "      <td>fda39e16f.png</td>\n",
       "      <td>Loose Silky-bent</td>\n",
       "    </tr>\n",
       "    <tr>\n",
       "      <th>791</th>\n",
       "      <td>da4ed3a28.png</td>\n",
       "      <td>Charlock</td>\n",
       "    </tr>\n",
       "    <tr>\n",
       "      <th>792</th>\n",
       "      <td>a83820a2c.png</td>\n",
       "      <td>Sugar beet</td>\n",
       "    </tr>\n",
       "    <tr>\n",
       "      <th>793</th>\n",
       "      <td>e4a76885b.png</td>\n",
       "      <td>Maize</td>\n",
       "    </tr>\n",
       "  </tbody>\n",
       "</table>\n",
       "<p>794 rows × 2 columns</p>\n",
       "</div>"
      ],
      "text/plain": [
       "              file           species\n",
       "0    fd87b36ae.png  Loose Silky-bent\n",
       "1    0e8492cb1.png        Sugar beet\n",
       "2    8d6acbe9b.png  Common Chickweed\n",
       "3    54b3afd58.png          Cleavers\n",
       "4    6049234e6.png           Fat Hen\n",
       "..             ...               ...\n",
       "789  4c7838de4.png  Common Chickweed\n",
       "790  fda39e16f.png  Loose Silky-bent\n",
       "791  da4ed3a28.png          Charlock\n",
       "792  a83820a2c.png        Sugar beet\n",
       "793  e4a76885b.png             Maize\n",
       "\n",
       "[794 rows x 2 columns]"
      ]
     },
     "execution_count": 18,
     "metadata": {},
     "output_type": "execute_result"
    }
   ],
   "source": [
    "sub_df = pd.read_csv(SUB_DIR)\n",
    "sub_df['file'] = test_df['file_path']\n",
    "sub_df['species'] = pd.Series(preds).map(map_labels)\n",
    "sub_df.to_csv('submission.csv', index=False)\n",
    "print('Submission file saved!')\n",
    "sub_df"
   ]
  }
 ],
 "metadata": {
  "kernelspec": {
   "display_name": "Python 3 (ipykernel)",
   "language": "python",
   "name": "python3"
  },
  "language_info": {
   "codemirror_mode": {
    "name": "ipython",
    "version": 3
   },
   "file_extension": ".py",
   "mimetype": "text/x-python",
   "name": "python",
   "nbconvert_exporter": "python",
   "pygments_lexer": "ipython3",
   "version": "3.10.6"
  },
  "papermill": {
   "default_parameters": {},
   "duration": 500.804087,
   "end_time": "2023-05-03T15:56:50.582314",
   "environment_variables": {},
   "exception": null,
   "input_path": "__notebook__.ipynb",
   "output_path": "__notebook__.ipynb",
   "parameters": {},
   "start_time": "2023-05-03T15:48:29.778227",
   "version": "2.4.0"
  }
 },
 "nbformat": 4,
 "nbformat_minor": 5
}
